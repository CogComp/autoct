{
 "cells": [
  {
   "cell_type": "code",
   "execution_count": null,
   "id": "5494e544",
   "metadata": {},
   "outputs": [],
   "source": [
    "from pyarrow.parquet import ParquetFile\n",
    "import duckdb\n",
    "import pandas as pd\n",
    "%load_ext autoreload\n",
    "%autoreload 2\n",
    "\n",
    "%reload_ext sql\n",
    "\n",
    "%config SqlMagic.autopandas = True\n",
    "%config SqlMagic.feedback = False\n",
    "%config SqlMagic.displaycon = False\n",
    "\n",
    "conn = duckdb.connect()\n",
    "%sql conn --alias duckdb"
   ]
  },
  {
   "cell_type": "markdown",
   "id": "7a66818e",
   "metadata": {},
   "source": [
    "### Raw Pre Processing"
   ]
  },
  {
   "cell_type": "code",
   "execution_count": null,
   "id": "5e1fe76c",
   "metadata": {},
   "outputs": [],
   "source": [
    "# Clinical Trials Data:\n",
    "# https://clinicaltrials.gov/search -- download all as JSON, name as ctg-studies.json"
   ]
  },
  {
   "cell_type": "code",
   "execution_count": null,
   "id": "ff511f3d",
   "metadata": {
    "vscode": {
     "languageId": "sql"
    }
   },
   "outputs": [],
   "source": [
    "%%sql\n",
    "copy\n",
    "    (select * from read_json(\"ctg-studies.json\", format = 'array', sample_size = -1))\n",
    "    to 'ctg-studies.parquet'\n",
    "    (format 'parquet', codec 'zstd');\n"
   ]
  },
  {
   "cell_type": "code",
   "execution_count": null,
   "id": "82c3409e",
   "metadata": {},
   "outputs": [],
   "source": [
    "print(\n",
    "    ParquetFile(\"ctg-studies.parquet\").schema_arrow.to_string(\n",
    "        show_schema_metadata=False, show_field_metadata=False\n",
    "    )\n",
    ")"
   ]
  },
  {
   "cell_type": "code",
   "execution_count": null,
   "id": "e2ce3b63",
   "metadata": {
    "vscode": {
     "languageId": "sql"
    }
   },
   "outputs": [],
   "source": [
    "%%sql\n",
    "raw_df <<\n",
    "with refs as (\n",
    "    select\n",
    "        protocolSection.identificationModule.nctId as nctId,\n",
    "        unnest(protocolSection.referencesModule.references) as references\n",
    "    from 'ctg-studies.parquet'\n",
    "        where protocolSection.designModule.studyType = 'INTERVENTIONAL'\n",
    ")\n",
    "select \n",
    "    protocolSection.identificationModule.nctId as nctId,\n",
    "    protocolSection.statusModule.overallStatus as overallStatus,\n",
    "    protocolSection.statusModule.lastKnownStatus as lastKnownStatus,\n",
    "    protocolSection.statusModule.whyStopped as whyStopped,\n",
    "    protocolSection.statusModule.startDateStruct as startDateStruct,\n",
    "    protocolSection.statusModule.completionDateStruct as completionDateStruct,\n",
    "    protocolSection.statusModule.primaryCompletionDateStruct as primaryCompletionDateStruct,\n",
    "    protocolSection.designModule.studyType as studyType,\n",
    "    protocolSection.designModule.phases as phases,\n",
    "    protocolSection.outcomesModule as outcomes,\n",
    "    protocolSection.referencesModule.seeAlsoLinks as seeAlsoLinks,\n",
    "    protocolSection.descriptionModule.briefSummary as briefSummary,\n",
    "    protocolSection.descriptionModule.detailedDescription as detailedDescription,\n",
    "    protocolSection.referencesModule.availIpds as availIpds,\n",
    "    hasResults as hasResults,\n",
    "    r.references as reference\n",
    "from 'ctg-studies.parquet'\n",
    "    left join refs r on (r.nctId = protocolSection.identificationModule.nctId)\n",
    "    where protocolSection.designModule.studyType = 'INTERVENTIONAL'"
   ]
  },
  {
   "cell_type": "code",
   "execution_count": null,
   "id": "208e4a68",
   "metadata": {},
   "outputs": [],
   "source": [
    "raw_df.to_parquet(\"ctg-projected-raw.parquet\")"
   ]
  },
  {
   "cell_type": "markdown",
   "id": "0eea6608",
   "metadata": {
    "vscode": {
     "languageId": "sql"
    }
   },
   "source": [
    "### CTG Data"
   ]
  },
  {
   "cell_type": "code",
   "execution_count": null,
   "id": "c79efe68",
   "metadata": {},
   "outputs": [],
   "source": [
    "raw_df = pd.read_parquet(\"ctg-projected-raw.parquet\")\n",
    "\n",
    "raw_df_proc = raw_df.join(\n",
    "    pd.json_normalize(raw_df[\"startDateStruct\"]).rename(columns=lambda c: f\"start_{c}\")\n",
    ").drop(columns=[\"startDateStruct\"])\n",
    "\n",
    "raw_df_proc = raw_df_proc.join(\n",
    "    pd.json_normalize(raw_df_proc[\"completionDateStruct\"]).rename(\n",
    "        columns=lambda c: f\"completion_{c}\"\n",
    "    )\n",
    ").drop(columns=[\"completionDateStruct\"])\n",
    "\n",
    "raw_df_proc = raw_df_proc.join(\n",
    "    pd.json_normalize(raw_df_proc[\"primaryCompletionDateStruct\"]).rename(\n",
    "        columns=lambda c: f\"primary_completion_{c}\"\n",
    "    )\n",
    ").drop(columns=[\"primaryCompletionDateStruct\"])\n",
    "\n",
    "raw_df_proc = raw_df_proc.join(\n",
    "    pd.json_normalize(raw_df_proc[\"reference\"]).rename(\n",
    "        columns=lambda c: f\"reference_{c}\"\n",
    "    )\n",
    ").drop(columns=[\"reference\"])\n",
    "\n",
    "raw_df_proc[\"start_date\"] = pd.to_datetime(raw_df_proc[\"start_date\"], format=\"mixed\")\n",
    "\n",
    "raw_df_proc[\"completion_date\"] = pd.to_datetime(\n",
    "    raw_df_proc[\"completion_date\"], format=\"mixed\"\n",
    ")\n",
    "\n",
    "raw_df_proc[\"primary_completion_date\"] = pd.to_datetime(\n",
    "    raw_df_proc[\"primary_completion_date\"], format=\"mixed\"\n",
    ")\n",
    "\n",
    "# Concat multiple phases together, if exists\n",
    "raw_df_proc[\"phases\"] = raw_df_proc[\"phases\"].apply(\n",
    "    lambda x: \"-\".join(y for y in x) if x is not None else x\n",
    ")\n",
    "\n",
    "# Includes only background publications\n",
    "background_mask = raw_df_proc[\"reference_type\"] == \"BACKGROUND\"\n",
    "\n",
    "cols_to_keep = [\n",
    "    \"nctId\",\n",
    "    \"overallStatus\",\n",
    "    \"phases\",\n",
    "    \"briefSummary\",\n",
    "    \"detailedDescription\",\n",
    "    \"hasResults\",\n",
    "    \"start_date\",\n",
    "    \"start_type\",\n",
    "    \"completion_date\",\n",
    "    \"completion_type\",\n",
    "    \"primary_completion_date\",\n",
    "    \"primary_completion_type\",\n",
    "    \"reference_citation\",\n",
    "    \"reference_pmid\",\n",
    "    \"reference_type\",\n",
    "]\n",
    "\n",
    "raw_df_proc = raw_df_proc[background_mask][cols_to_keep].reset_index(drop=True)"
   ]
  },
  {
   "cell_type": "code",
   "execution_count": null,
   "id": "302a15c0",
   "metadata": {},
   "outputs": [],
   "source": [
    "raw_df_proc.head(3)"
   ]
  },
  {
   "cell_type": "code",
   "execution_count": null,
   "id": "5043ec26",
   "metadata": {},
   "outputs": [],
   "source": [
    "raw_df_proc.to_parquet(\"ctg-projected-processed.parquet\")"
   ]
  }
 ],
 "metadata": {
  "language_info": {
   "name": "python"
  }
 },
 "nbformat": 4,
 "nbformat_minor": 5
}
