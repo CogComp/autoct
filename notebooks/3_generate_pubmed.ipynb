{
 "cells": [
  {
   "cell_type": "code",
   "execution_count": null,
   "id": "1d6b08d1",
   "metadata": {},
   "outputs": [],
   "source": [
    "import duckdb\n",
    "import pandas as pd\n",
    "from src.lfe.impl.pubmed import upsert_pub_med\n",
    "\n",
    "%reload_ext sql\n",
    "\n",
    "%config SqlMagic.autopandas = True\n",
    "%config SqlMagic.feedback = False\n",
    "%config SqlMagic.displaycon = False\n",
    "\n",
    "conn = duckdb.connect()\n",
    "%sql conn --alias duckdb\n",
    "%load_ext autoreload\n",
    "%autoreload 2"
   ]
  },
  {
   "cell_type": "code",
   "execution_count": null,
   "id": "1373a289",
   "metadata": {},
   "outputs": [],
   "source": [
    "df = pd.read_parquet(\"pmids.parquet\") # PMIDs were gathered based on linked and relevant PMIDs from CTG\n",
    "to_pull = list(set(df[\"PMID\"].dropna()))\n",
    "len(to_pull)"
   ]
  },
  {
   "cell_type": "code",
   "execution_count": null,
   "id": "09157bf3",
   "metadata": {},
   "outputs": [],
   "source": [
    "upsert_pub_med(to_pull, \"pubmed_meta.parquet\")"
   ]
  }
 ],
 "metadata": {
  "language_info": {
   "name": "python"
  }
 },
 "nbformat": 4,
 "nbformat_minor": 5
}
